{
 "cells": [
  {
   "cell_type": "code",
   "execution_count": 3,
   "id": "b10540c7",
   "metadata": {},
   "outputs": [],
   "source": [
    "import pandas as pd"
   ]
  },
  {
   "cell_type": "code",
   "execution_count": 6,
   "id": "97532ef8",
   "metadata": {},
   "outputs": [],
   "source": [
    "df = pd.read_csv(\"datatran2021.csv\", encoding = 'iso-8859-1', sep =';' )"
   ]
  },
  {
   "cell_type": "code",
   "execution_count": 8,
   "id": "73eb0640",
   "metadata": {},
   "outputs": [
    {
     "name": "stdout",
     "output_type": "stream",
     "text": [
      "<class 'pandas.core.frame.DataFrame'>\n",
      "RangeIndex: 30901 entries, 0 to 30900\n",
      "Data columns (total 30 columns):\n",
      " #   Column                  Non-Null Count  Dtype  \n",
      "---  ------                  --------------  -----  \n",
      " 0   id                      30901 non-null  int64  \n",
      " 1   data_inversa            30901 non-null  object \n",
      " 2   dia_semana              30901 non-null  object \n",
      " 3   horario                 30901 non-null  object \n",
      " 4   uf                      30901 non-null  object \n",
      " 5   br                      30817 non-null  float64\n",
      " 6   km                      30817 non-null  object \n",
      " 7   municipio               30901 non-null  object \n",
      " 8   causa_acidente          30901 non-null  object \n",
      " 9   tipo_acidente           30901 non-null  object \n",
      " 10  classificacao_acidente  30901 non-null  object \n",
      " 11  fase_dia                30901 non-null  object \n",
      " 12  sentido_via             30901 non-null  object \n",
      " 13  condicao_metereologica  30901 non-null  object \n",
      " 14  tipo_pista              30901 non-null  object \n",
      " 15  tracado_via             30901 non-null  object \n",
      " 16  uso_solo                30901 non-null  object \n",
      " 17  pessoas                 30901 non-null  int64  \n",
      " 18  mortos                  30901 non-null  int64  \n",
      " 19  feridos_leves           30901 non-null  int64  \n",
      " 20  feridos_graves          30901 non-null  int64  \n",
      " 21  ilesos                  30901 non-null  int64  \n",
      " 22  ignorados               30901 non-null  int64  \n",
      " 23  feridos                 30901 non-null  int64  \n",
      " 24  veiculos                30901 non-null  int64  \n",
      " 25  latitude                30901 non-null  object \n",
      " 26  longitude               30901 non-null  object \n",
      " 27  regional                30901 non-null  object \n",
      " 28  delegacia               30901 non-null  object \n",
      " 29  uop                     30901 non-null  object \n",
      "dtypes: float64(1), int64(9), object(20)\n",
      "memory usage: 7.1+ MB\n"
     ]
    }
   ],
   "source": [
    "df.info()"
   ]
  },
  {
   "cell_type": "code",
   "execution_count": 9,
   "id": "5870922c",
   "metadata": {},
   "outputs": [
    {
     "name": "stderr",
     "output_type": "stream",
     "text": [
      "Matplotlib is building the font cache; this may take a moment.\n"
     ]
    },
    {
     "data": {
      "text/plain": [
       "<AxesSubplot:>"
      ]
     },
     "execution_count": 9,
     "metadata": {},
     "output_type": "execute_result"
    },
    {
     "data": {
      "image/png": "[encoded data removed]",
      "text/plain": [
       "<Figure size 432x288 with 1 Axes>"
      ]
     },
     "metadata": {
      "needs_background": "light"
     },
     "output_type": "display_data"
    }
   ],
   "source": [
    "df.boxplot(column =  ['pessoas','mortos', 'feridos_leves'])"
   ]
  },
  {
   "cell_type": "code",
   "execution_count": 10,
   "id": "52b38300",
   "metadata": {},
   "outputs": [
    {
     "data": {
      "text/plain": [
       "<AxesSubplot:>"
      ]
     },
     "execution_count": 10,
     "metadata": {},
     "output_type": "execute_result"
    },
    {
     "data": {
      "image/png": "[encoded data removed]",
      "text/plain": [
       "<Figure size 432x288 with 1 Axes>"
      ]
     },
     "metadata": {
      "needs_background": "light"
     },
     "output_type": "display_data"
    }
   ],
   "source": [
    "df.boxplot(column = ['feridos_graves', 'ilesos', 'ignorados', 'feridos'])"
   ]
  },
  {
   "cell_type": "code",
   "execution_count": 11,
   "id": "e28e2d14",
   "metadata": {},
   "outputs": [
    {
     "data": {
      "text/plain": [
       "<AxesSubplot:>"
      ]
     },
     "execution_count": 11,
     "metadata": {},
     "output_type": "execute_result"
    },
    {
     "data": {
      "image/png": "[encoded data removed]",
      "text/plain": [
       "<Figure size 432x288 with 1 Axes>"
      ]
     },
     "metadata": {
      "needs_background": "light"
     },
     "output_type": "display_data"
    }
   ],
   "source": [
    "df.boxplot(column = ['veiculos'])"
   ]
  },
  {
   "cell_type": "code",
   "execution_count": null,
   "id": "25d84350",
   "metadata": {},
   "outputs": [],
   "source": []
  }
 ],
 "metadata": {
  "kernelspec": {
   "display_name": "Python 3 (ipykernel)",
   "language": "python",
   "name": "python3"
  },
  "language_info": {
   "codemirror_mode": {
    "name": "ipython",
    "version": 3
   },
   "file_extension": ".py",
   "mimetype": "text/x-python",
   "name": "python",
   "nbconvert_exporter": "python",
   "pygments_lexer": "ipython3",
   "version": "3.9.7"
  }
 },
 "nbformat": 4,
 "nbformat_minor": 5
}
