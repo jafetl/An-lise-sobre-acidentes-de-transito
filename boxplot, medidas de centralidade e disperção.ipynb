{
 "cells": [
  {
   "cell_type": "code",
   "execution_count": 74,
   "id": "b10540c7",
   "metadata": {},
   "outputs": [],
   "source": [
    "import pandas as pd\n",
    "import numpy as np"
   ]
  },
  {
   "cell_type": "code",
   "execution_count": 4,
   "id": "97532ef8",
   "metadata": {},
   "outputs": [],
   "source": [
    "df = pd.read_csv(\"datatran2021.csv\", encoding = 'iso-8859-1', sep =';' )"
   ]
  },
  {
   "cell_type": "code",
   "execution_count": 5,
   "id": "73eb0640",
   "metadata": {},
   "outputs": [
    {
     "name": "stdout",
     "output_type": "stream",
     "text": [
      "<class 'pandas.core.frame.DataFrame'>\n",
      "RangeIndex: 30901 entries, 0 to 30900\n",
      "Data columns (total 30 columns):\n",
      " #   Column                  Non-Null Count  Dtype  \n",
      "---  ------                  --------------  -----  \n",
      " 0   id                      30901 non-null  int64  \n",
      " 1   data_inversa            30901 non-null  object \n",
      " 2   dia_semana              30901 non-null  object \n",
      " 3   horario                 30901 non-null  object \n",
      " 4   uf                      30901 non-null  object \n",
      " 5   br                      30817 non-null  float64\n",
      " 6   km                      30817 non-null  object \n",
      " 7   municipio               30901 non-null  object \n",
      " 8   causa_acidente          30901 non-null  object \n",
      " 9   tipo_acidente           30901 non-null  object \n",
      " 10  classificacao_acidente  30901 non-null  object \n",
      " 11  fase_dia                30901 non-null  object \n",
      " 12  sentido_via             30901 non-null  object \n",
      " 13  condicao_metereologica  30901 non-null  object \n",
      " 14  tipo_pista              30901 non-null  object \n",
      " 15  tracado_via             30901 non-null  object \n",
      " 16  uso_solo                30901 non-null  object \n",
      " 17  pessoas                 30901 non-null  int64  \n",
      " 18  mortos                  30901 non-null  int64  \n",
      " 19  feridos_leves           30901 non-null  int64  \n",
      " 20  feridos_graves          30901 non-null  int64  \n",
      " 21  ilesos                  30901 non-null  int64  \n",
      " 22  ignorados               30901 non-null  int64  \n",
      " 23  feridos                 30901 non-null  int64  \n",
      " 24  veiculos                30901 non-null  int64  \n",
      " 25  latitude                30901 non-null  object \n",
      " 26  longitude               30901 non-null  object \n",
      " 27  regional                30901 non-null  object \n",
      " 28  delegacia               30901 non-null  object \n",
      " 29  uop                     30901 non-null  object \n",
      "dtypes: float64(1), int64(9), object(20)\n",
      "memory usage: 7.1+ MB\n"
     ]
    }
   ],
   "source": [
    "df.info()"
   ]
  },
  {
   "cell_type": "code",
   "execution_count": 6,
   "id": "5870922c",
   "metadata": {},
   "outputs": [
    {
     "data": {
      "text/plain": [
       "<AxesSubplot:>"
      ]
     },
     "execution_count": 6,
     "metadata": {},
     "output_type": "execute_result"
    },
    {
     "data": {
      "image/png": "[encoded data removed]",
      "text/plain": [
       "<Figure size 432x288 with 1 Axes>"
      ]
     },
     "metadata": {
      "needs_background": "light"
     },
     "output_type": "display_data"
    }
   ],
   "source": [
    "df.boxplot(column =  ['pessoas','mortos', 'feridos_leves'])"
   ]
  },
  {
   "cell_type": "code",
   "execution_count": 112,
   "id": "52b38300",
   "metadata": {},
   "outputs": [
    {
     "data": {
      "text/plain": [
       "<AxesSubplot:>"
      ]
     },
     "execution_count": 112,
     "metadata": {},
     "output_type": "execute_result"
    },
    {
     "data": {
      "image/png": "[encoded data removed]",
      "text/plain": [
       "<Figure size 432x288 with 1 Axes>"
      ]
     },
     "metadata": {
      "needs_background": "light"
     },
     "output_type": "display_data"
    }
   ],
   "source": [
    "df.boxplot(column = ['feridos_graves', 'ilesos', 'ignorados', 'feridos'])"
   ]
  },
  {
   "cell_type": "code",
   "execution_count": 8,
   "id": "e28e2d14",
   "metadata": {},
   "outputs": [
    {
     "data": {
      "text/plain": [
       "<AxesSubplot:>"
      ]
     },
     "execution_count": 8,
     "metadata": {},
     "output_type": "execute_result"
    },
    {
     "data": {
      "image/png": "[encoded data removed]",
      "text/plain": [
       "<Figure size 432x288 with 1 Axes>"
      ]
     },
     "metadata": {
      "needs_background": "light"
     },
     "output_type": "display_data"
    }
   ],
   "source": [
    "df.boxplot(column = ['veiculos'])"
   ]
  },
  {
   "cell_type": "markdown",
   "id": "e14be6c4",
   "metadata": {},
   "source": [
    "# Medidas de centralidade"
   ]
  },
  {
   "cell_type": "markdown",
   "id": "bdafa6b4",
   "metadata": {},
   "source": [
    "### Média"
   ]
  },
  {
   "cell_type": "code",
   "execution_count": 16,
   "id": "25d84350",
   "metadata": {},
   "outputs": [
    {
     "data": {
      "text/plain": [
       "2.295589139510048"
      ]
     },
     "execution_count": 16,
     "metadata": {},
     "output_type": "execute_result"
    }
   ],
   "source": [
    "mean_pessoas =df['pessoas'].mean()\n",
    "mean_pessoas\n",
    " "
   ]
  },
  {
   "cell_type": "code",
   "execution_count": 41,
   "id": "4e146f41",
   "metadata": {},
   "outputs": [
    {
     "data": {
      "text/plain": [
       "0.07993268826251577"
      ]
     },
     "execution_count": 41,
     "metadata": {},
     "output_type": "execute_result"
    }
   ],
   "source": [
    "mean_mortos =df['mortos'].mean()\n",
    "mean_mortos"
   ]
  },
  {
   "cell_type": "code",
   "execution_count": 42,
   "id": "d0c5e7b6",
   "metadata": {},
   "outputs": [
    {
     "data": {
      "text/plain": [
       "1.1019708100061487"
      ]
     },
     "execution_count": 42,
     "metadata": {},
     "output_type": "execute_result"
    }
   ],
   "source": [
    "mean_feridos =df['feridos'].mean()\n",
    "mean_feridos"
   ]
  },
  {
   "cell_type": "code",
   "execution_count": 43,
   "id": "82fa0dee",
   "metadata": {},
   "outputs": [
    {
     "data": {
      "text/plain": [
       "0.8352156888126598"
      ]
     },
     "execution_count": 43,
     "metadata": {},
     "output_type": "execute_result"
    }
   ],
   "source": [
    "mean_feridos_leves = df['feridos_leves'].mean()\n",
    "mean_feridos_leves"
   ]
  },
  {
   "cell_type": "code",
   "execution_count": 56,
   "id": "5efcc8af",
   "metadata": {},
   "outputs": [
    {
     "data": {
      "text/plain": [
       "0.2667551211934889"
      ]
     },
     "execution_count": 56,
     "metadata": {},
     "output_type": "execute_result"
    }
   ],
   "source": [
    "mean_feridos_graves = df['feridos_graves'].mean()\n",
    "mean_feridos_graves"
   ]
  },
  {
   "cell_type": "code",
   "execution_count": 54,
   "id": "04bcfed2",
   "metadata": {},
   "outputs": [
    {
     "data": {
      "text/plain": [
       "0.9595158732727096"
      ]
     },
     "execution_count": 54,
     "metadata": {},
     "output_type": "execute_result"
    }
   ],
   "source": [
    "mean_ilesos = df['ilesos'].mean()\n",
    "mean_ilesos"
   ]
  },
  {
   "cell_type": "code",
   "execution_count": 55,
   "id": "25d9870d",
   "metadata": {},
   "outputs": [
    {
     "data": {
      "text/plain": [
       "1.649817158020776"
      ]
     },
     "execution_count": 55,
     "metadata": {},
     "output_type": "execute_result"
    }
   ],
   "source": [
    "mean_veiculos = df['veiculos'].mean()\n",
    "mean_veiculos"
   ]
  },
  {
   "cell_type": "markdown",
   "id": "585ec1c6",
   "metadata": {},
   "source": [
    "### Mediana"
   ]
  },
  {
   "cell_type": "code",
   "execution_count": 15,
   "id": "c591765b",
   "metadata": {},
   "outputs": [
    {
     "data": {
      "text/plain": [
       "2.0"
      ]
     },
     "execution_count": 15,
     "metadata": {},
     "output_type": "execute_result"
    }
   ],
   "source": [
    "median_pessoas = df['pessoas'].median()\n",
    "median_pessoas"
   ]
  },
  {
   "cell_type": "code",
   "execution_count": 47,
   "id": "7a4934aa",
   "metadata": {},
   "outputs": [
    {
     "data": {
      "text/plain": [
       "0.0"
      ]
     },
     "execution_count": 47,
     "metadata": {},
     "output_type": "execute_result"
    }
   ],
   "source": [
    "median_mortos = df['mortos'].median()\n",
    "median_mortos"
   ]
  },
  {
   "cell_type": "code",
   "execution_count": 48,
   "id": "e40fa074",
   "metadata": {},
   "outputs": [
    {
     "data": {
      "text/plain": [
       "1.0"
      ]
     },
     "execution_count": 48,
     "metadata": {},
     "output_type": "execute_result"
    }
   ],
   "source": [
    "median_feridos = df['feridos'].median()\n",
    "median_feridos"
   ]
  },
  {
   "cell_type": "code",
   "execution_count": 49,
   "id": "5e168bc8",
   "metadata": {},
   "outputs": [
    {
     "data": {
      "text/plain": [
       "1.0"
      ]
     },
     "execution_count": 49,
     "metadata": {},
     "output_type": "execute_result"
    }
   ],
   "source": [
    "median_feridos_leves = df['feridos_leves'].median()\n",
    "median_feridos_leves"
   ]
  },
  {
   "cell_type": "code",
   "execution_count": 50,
   "id": "75e52e6f",
   "metadata": {},
   "outputs": [
    {
     "data": {
      "text/plain": [
       "0.0"
      ]
     },
     "execution_count": 50,
     "metadata": {},
     "output_type": "execute_result"
    }
   ],
   "source": [
    "median_feridos_graves = df['feridos_graves'].median()\n",
    "median_feridos_graves"
   ]
  },
  {
   "cell_type": "code",
   "execution_count": 51,
   "id": "394dd072",
   "metadata": {},
   "outputs": [
    {
     "data": {
      "text/plain": [
       "1.0"
      ]
     },
     "execution_count": 51,
     "metadata": {},
     "output_type": "execute_result"
    }
   ],
   "source": [
    "median_ilesos = df['ilesos'].median()\n",
    "median_ilesos"
   ]
  },
  {
   "cell_type": "code",
   "execution_count": 52,
   "id": "5df0d4f6",
   "metadata": {},
   "outputs": [
    {
     "data": {
      "text/plain": [
       "2.0"
      ]
     },
     "execution_count": 52,
     "metadata": {},
     "output_type": "execute_result"
    }
   ],
   "source": [
    "median_veiculos = df['veiculos'].median()\n",
    "median_veiculos"
   ]
  },
  {
   "cell_type": "markdown",
   "id": "dd3f33d4",
   "metadata": {},
   "source": [
    "### Moda"
   ]
  },
  {
   "cell_type": "code",
   "execution_count": 17,
   "id": "047ce8e4",
   "metadata": {},
   "outputs": [
    {
     "data": {
      "text/plain": [
       "0    2\n",
       "dtype: int64"
      ]
     },
     "execution_count": 17,
     "metadata": {},
     "output_type": "execute_result"
    }
   ],
   "source": [
    "mode_pessoas= df['pessoas'].mode()\n",
    "mode_pessoas"
   ]
  },
  {
   "cell_type": "code",
   "execution_count": 20,
   "id": "6c4ca200",
   "metadata": {},
   "outputs": [
    {
     "data": {
      "text/plain": [
       "0    0\n",
       "dtype: int64"
      ]
     },
     "execution_count": 20,
     "metadata": {},
     "output_type": "execute_result"
    }
   ],
   "source": [
    "mode_mortos= df['mortos'].mode()\n",
    "mode_mortos"
   ]
  },
  {
   "cell_type": "code",
   "execution_count": 23,
   "id": "7aaaac29",
   "metadata": {},
   "outputs": [
    {
     "data": {
      "text/plain": [
       "0    1\n",
       "dtype: int64"
      ]
     },
     "execution_count": 23,
     "metadata": {},
     "output_type": "execute_result"
    }
   ],
   "source": [
    "mode_feridos = df['feridos'].mode()\n",
    "mode_feridos"
   ]
  },
  {
   "cell_type": "code",
   "execution_count": 26,
   "id": "05f628df",
   "metadata": {},
   "outputs": [
    {
     "data": {
      "text/plain": [
       "0    1\n",
       "dtype: int64"
      ]
     },
     "execution_count": 26,
     "metadata": {},
     "output_type": "execute_result"
    }
   ],
   "source": [
    "mode_feridos_leves = df['feridos_leves'].mode()\n",
    "mode_feridos_leves"
   ]
  },
  {
   "cell_type": "code",
   "execution_count": 29,
   "id": "b06bc423",
   "metadata": {},
   "outputs": [
    {
     "data": {
      "text/plain": [
       "0    0\n",
       "dtype: int64"
      ]
     },
     "execution_count": 29,
     "metadata": {},
     "output_type": "execute_result"
    }
   ],
   "source": [
    "mode_feridos_graves = df['feridos_graves'].mode()\n",
    "mode_feridos_graves"
   ]
  },
  {
   "cell_type": "code",
   "execution_count": 37,
   "id": "1c8ae9a8",
   "metadata": {},
   "outputs": [
    {
     "data": {
      "text/plain": [
       "0    1\n",
       "dtype: int64"
      ]
     },
     "execution_count": 37,
     "metadata": {},
     "output_type": "execute_result"
    }
   ],
   "source": [
    "mode_ilesos = df['ilesos'].mode()\n",
    "mode_ilesos"
   ]
  },
  {
   "cell_type": "code",
   "execution_count": 40,
   "id": "b25fee02",
   "metadata": {},
   "outputs": [
    {
     "data": {
      "text/plain": [
       "0    2\n",
       "dtype: int64"
      ]
     },
     "execution_count": 40,
     "metadata": {},
     "output_type": "execute_result"
    }
   ],
   "source": [
    "mode_veiculos = df['veiculos'].mode()\n",
    "mode_veiculos"
   ]
  },
  {
   "cell_type": "markdown",
   "id": "c3ec49e9",
   "metadata": {},
   "source": [
    "# Medidas de disperção"
   ]
  },
  {
   "cell_type": "markdown",
   "id": "aebb3843",
   "metadata": {},
   "source": [
    "### Variação"
   ]
  },
  {
   "cell_type": "code",
   "execution_count": 75,
   "id": "1b00a3cc",
   "metadata": {},
   "outputs": [
    {
     "data": {
      "text/plain": [
       "2.5889805766698366"
      ]
     },
     "execution_count": 75,
     "metadata": {},
     "output_type": "execute_result"
    }
   ],
   "source": [
    "variance_pessoas = np.var(df['pessoas'])\n",
    "variance_pessoas"
   ]
  },
  {
   "cell_type": "code",
   "execution_count": 76,
   "id": "7af234ad",
   "metadata": {},
   "outputs": [
    {
     "data": {
      "text/plain": [
       "0.10752293647431367"
      ]
     },
     "execution_count": 76,
     "metadata": {},
     "output_type": "execute_result"
    }
   ],
   "source": [
    "variance_mortos = np.var(df['mortos'])\n",
    "variance_mortos"
   ]
  },
  {
   "cell_type": "code",
   "execution_count": 80,
   "id": "b440c535",
   "metadata": {},
   "outputs": [
    {
     "data": {
      "text/plain": [
       "0.8711989349030208"
      ]
     },
     "execution_count": 80,
     "metadata": {},
     "output_type": "execute_result"
    }
   ],
   "source": [
    "variance_feridos_leves = np.var(df['feridos_leves'])\n",
    "variance_feridos_leves"
   ]
  },
  {
   "cell_type": "code",
   "execution_count": 81,
   "id": "8aa65c50",
   "metadata": {},
   "outputs": [
    {
     "data": {
      "text/plain": [
       "0.34290597508175624"
      ]
     },
     "execution_count": 81,
     "metadata": {},
     "output_type": "execute_result"
    }
   ],
   "source": [
    "variance_feridos_graves = np.var(df['feridos_graves'])\n",
    "variance_feridos_graves"
   ]
  },
  {
   "cell_type": "code",
   "execution_count": 82,
   "id": "a7cc63c6",
   "metadata": {},
   "outputs": [
    {
     "data": {
      "text/plain": [
       "1.7237097297000508"
      ]
     },
     "execution_count": 82,
     "metadata": {},
     "output_type": "execute_result"
    }
   ],
   "source": [
    "variance_ilesos = np.var(df['ilesos'])\n",
    "variance_ilesos"
   ]
  },
  {
   "cell_type": "code",
   "execution_count": 83,
   "id": "cedaad9a",
   "metadata": {},
   "outputs": [
    {
     "data": {
      "text/plain": [
       "1.0323837409034387"
      ]
     },
     "execution_count": 83,
     "metadata": {},
     "output_type": "execute_result"
    }
   ],
   "source": [
    "variance_feridos = np.var(df['feridos'])\n",
    "variance_feridos"
   ]
  },
  {
   "cell_type": "code",
   "execution_count": 84,
   "id": "08d7f61c",
   "metadata": {},
   "outputs": [
    {
     "data": {
      "text/plain": [
       "0.5046979536888084"
      ]
     },
     "execution_count": 84,
     "metadata": {},
     "output_type": "execute_result"
    }
   ],
   "source": [
    "variance_veiculos = np.var(df['veiculos'])\n",
    "variance_veiculos"
   ]
  },
  {
   "cell_type": "markdown",
   "id": "55d7e58c",
   "metadata": {},
   "source": [
    "### Desvio padrão"
   ]
  },
  {
   "cell_type": "code",
   "execution_count": 104,
   "id": "ec29c383",
   "metadata": {},
   "outputs": [],
   "source": [
    "def desviopd(x):\n",
    "    y = np.std(x)\n",
    "    return print(y)"
   ]
  },
  {
   "cell_type": "code",
   "execution_count": 106,
   "id": "111b8563",
   "metadata": {},
   "outputs": [
    {
     "name": "stdout",
     "output_type": "stream",
     "text": [
      "1.609030943353743\n"
     ]
    }
   ],
   "source": [
    "desviopd_pessoas = desviopd(df['pessoas'])"
   ]
  },
  {
   "cell_type": "code",
   "execution_count": 107,
   "id": "f676fb72",
   "metadata": {},
   "outputs": [
    {
     "name": "stdout",
     "output_type": "stream",
     "text": [
      "0.3279069021449742\n"
     ]
    }
   ],
   "source": [
    "desviopd_mortos= desviopd(df['mortos'])"
   ]
  },
  {
   "cell_type": "code",
   "execution_count": 103,
   "id": "4f939339",
   "metadata": {},
   "outputs": [
    {
     "data": {
      "text/plain": [
       "0.9333803806075103"
      ]
     },
     "execution_count": 103,
     "metadata": {},
     "output_type": "execute_result"
    }
   ],
   "source": [
    "desviopd_feridos_leves = desviopd(df['feridos_leves'])"
   ]
  },
  {
   "cell_type": "code",
   "execution_count": 113,
   "id": "fdfe0d05",
   "metadata": {},
   "outputs": [
    {
     "name": "stdout",
     "output_type": "stream",
     "text": [
      "0.5855817407345931\n"
     ]
    }
   ],
   "source": [
    "desviopd_feridos_graves = desviopd(df['feridos_graves'])"
   ]
  },
  {
   "cell_type": "code",
   "execution_count": 114,
   "id": "e850a037",
   "metadata": {},
   "outputs": [
    {
     "name": "stdout",
     "output_type": "stream",
     "text": [
      "1.3129012642617306\n"
     ]
    }
   ],
   "source": [
    "desviopd_ilesos = desviopd(df['ilesos'])"
   ]
  },
  {
   "cell_type": "code",
   "execution_count": 115,
   "id": "4c2350d4",
   "metadata": {},
   "outputs": [
    {
     "name": "stdout",
     "output_type": "stream",
     "text": [
      "0.7104209693476174\n"
     ]
    }
   ],
   "source": [
    "desviopd_veiculos = desviopd(df['veiculos'])"
   ]
  }
 ],
 "metadata": {
  "kernelspec": {
   "display_name": "Python 3 (ipykernel)",
   "language": "python",
   "name": "python3"
  },
  "language_info": {
   "codemirror_mode": {
    "name": "ipython",
    "version": 3
   },
   "file_extension": ".py",
   "mimetype": "text/x-python",
   "name": "python",
   "nbconvert_exporter": "python",
   "pygments_lexer": "ipython3",
   "version": "3.9.7"
  }
 },
 "nbformat": 4,
 "nbformat_minor": 5
}
